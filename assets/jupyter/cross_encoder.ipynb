{
 "cells": [
  {
   "cell_type": "markdown",
   "id": "ee7ee1ad",
   "metadata": {},
   "source": [
    "## Cross-Encoder Example"
   ]
  },
  {
   "cell_type": "code",
   "execution_count": null,
   "id": "0483aeef",
   "metadata": {},
   "outputs": [],
   "source": [
    "from torch import nn"
   ]
  },
  {
   "cell_type": "code",
   "execution_count": null,
   "id": "9f4ebe53",
   "metadata": {},
   "outputs": [],
   "source": [
    "class CrossEncoder(nn.Module):\n",
    "\n",
    "    def __init__(self, base_model):\n",
    "        self.base_model = base_model \n",
    "\n",
    "    \n",
    "    def forward(self, X):\n",
    "        "
   ]
  }
 ],
 "metadata": {
  "kernelspec": {
   "display_name": "cuda_torch",
   "language": "python",
   "name": "cuda_torch"
  },
  "language_info": {
   "name": "python",
   "version": "3.12.3"
  }
 },
 "nbformat": 4,
 "nbformat_minor": 5
}
